{
 "metadata": {
  "language_info": {
   "codemirror_mode": {
    "name": "ipython",
    "version": 3
   },
   "file_extension": ".py",
   "mimetype": "text/x-python",
   "name": "python",
   "nbconvert_exporter": "python",
   "pygments_lexer": "ipython3",
   "version": "3.8.5-final"
  },
  "orig_nbformat": 2,
  "kernelspec": {
   "name": "python3",
   "display_name": "Python 3",
   "language": "python"
  }
 },
 "nbformat": 4,
 "nbformat_minor": 2,
 "cells": [
  {
   "cell_type": "code",
   "execution_count": null,
   "metadata": {},
   "outputs": [],
   "source": [
    "# find averages of subarray of size k\n",
    "def find_averages_of_subarrays(K,arr):\n",
    "    result = []\n",
    "    windowSum, windwoStart = 0.0, 0\n",
    "    for windowEnd in range(len(arr)):\n",
    "        windowSum += arr[windowEnd]\n",
    "        if windowEnd >= K - 1:\n",
    "            result.append(windowSum / K)\n",
    "            windowSum -= arr[windwoStart]\n",
    "            windwoStart += 1"
   ]
  },
  {
   "cell_type": "code",
   "execution_count": 2,
   "metadata": {},
   "outputs": [
    {
     "output_type": "execute_result",
     "data": {
      "text/plain": [
       "7"
      ]
     },
     "metadata": {},
     "execution_count": 2
    }
   ],
   "source": [
    "# find max sum of subarray of size K\n",
    "def max_sub_array_of_size_K(K,arr):\n",
    "    mxt = 0\n",
    "    ct = 0\n",
    "    l = 0\n",
    "    for r in range(len(arr)):\n",
    "        ct += arr[r]\n",
    "        if r >= K - 1:\n",
    "            mxt = max(mxt,ct)\n",
    "            ct -= arr[l]\n",
    "            l += 1\n",
    "    return mxt\n",
    "# inp= [2, 1, 5, 1, 3, 2]\n",
    "# k=3S \n",
    "inp = [2,3,4,1,5]\n",
    "k = 2\n",
    "max_sub_array_of_size_K(k,inp)"
   ]
  }
 ]
}