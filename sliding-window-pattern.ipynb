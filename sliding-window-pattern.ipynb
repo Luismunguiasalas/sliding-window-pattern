{
 "metadata": {
  "language_info": {
   "codemirror_mode": {
    "name": "ipython",
    "version": 3
   },
   "file_extension": ".py",
   "mimetype": "text/x-python",
   "name": "python",
   "nbconvert_exporter": "python",
   "pygments_lexer": "ipython3",
   "version": "3.8.5-final"
  },
  "orig_nbformat": 2,
  "kernelspec": {
   "name": "python3",
   "display_name": "Python 3",
   "language": "python"
  }
 },
 "nbformat": 4,
 "nbformat_minor": 2,
 "cells": [
  {
   "cell_type": "code",
   "execution_count": null,
   "metadata": {},
   "outputs": [],
   "source": [
    "# find averages of subarray of size k\n",
    "def find_averages_of_subarrays(K,arr):\n",
    "    result = []\n",
    "    windowSum, windwoStart = 0.0, 0\n",
    "    for windowEnd in range(len(arr)):\n",
    "        windowSum += arr[windowEnd]\n",
    "        if windowEnd >= K - 1:\n",
    "            result.append(windowSum / K)\n",
    "            windowSum -= arr[windwoStart]\n",
    "            windwoStart += 1\n",
    "\n",
    "# time complexity O(n)\n",
    "# space complexity O(k)"
   ]
  },
  {
   "cell_type": "code",
   "execution_count": null,
   "metadata": {},
   "outputs": [],
   "source": [
    "# find max sum of subarray of size K\n",
    "def max_sub_array_of_size_K(K,arr):\n",
    "    mxt = 0\n",
    "    ct = 0\n",
    "    l = 0\n",
    "    for r in range(len(arr)):\n",
    "        ct += arr[r]\n",
    "        if r >= K - 1:\n",
    "            mxt = max(mxt,ct)\n",
    "            ct -= arr[l]\n",
    "            l += 1\n",
    "    return mxt\n",
    "# inp= [2, 1, 5, 1, 3, 2]\n",
    "# k=3S \n",
    "inp = [2,3,4,1,5]\n",
    "k = 2\n",
    "max_sub_array_of_size_K(k,inp)\n",
    "\n",
    "# time complexity O(n)\n",
    "# space complexity O(1)"
   ]
  },
  {
   "cell_type": "code",
   "execution_count": null,
   "metadata": {},
   "outputs": [],
   "source": [
    "# find smallest subarray sum >= S\n",
    "def smallest_subarray_with_given_sum(s,arr):\n",
    "    l = 0\n",
    "    mn = 0\n",
    "    mns = s\n",
    "    for i , n in enumerate(arr):\n",
    "        mn += n\n",
    "        while mn >= s:\n",
    "            mns = min(mns,(i+1) - l)\n",
    "            mn -= arr[l]\n",
    "            l += 1\n",
    "    return mns\n",
    "\n",
    "# inp = [2,1,5,2,3,2]\n",
    "# s = 7 \n",
    "# inp = [2,1,5,2,8]\n",
    "# s = 7\n",
    "inp = [3,4,1,1,6]\n",
    "s=8\n",
    "smallest_subarray_with_given_sum(s,inp)\n",
    "\n",
    "# time complexity O(n+n)\n",
    "# space complexity O(1)\n"
   ]
  },
  {
   "cell_type": "code",
   "execution_count": null,
   "metadata": {},
   "outputs": [],
   "source": [
    "# return longest substring in it with no more than K distinct characters\n",
    " \n",
    "\n",
    "# def longest_substring_with_k_distinct(str,k):\n",
    "#     l = 0\n",
    "#     lg_sub = 0\n",
    "#     dic = {}\n",
    "#     for ltr in str:\n",
    "#         if ltr not in dic:\n",
    "#             dic[ltr] = 0\n",
    "#         # dic[ltr] += 1\n",
    "#         while len(dic) > k:\n",
    "#             lg_sub = max(lg_sub,sum(dic.values()))\n",
    "#             while True:\n",
    "#                 if str[l] in dic:\n",
    "#                     temp = str[l]\n",
    "#                     break\n",
    "#                 else:\n",
    "#                     l += 1\n",
    "#             del dic[temp]\n",
    "#         dic[ltr] += 1\n",
    "#     lg_sub = max(lg_sub,sum(dic.values()))\n",
    "#     return lg_sub\n",
    "\n",
    "\n",
    "def longest_substring_with_k_distinct(str,k):\n",
    "    l = 0\n",
    "    mx = 0\n",
    "    dic = dict()\n",
    "    for ltr in str:\n",
    "        if ltr not in dic:\n",
    "            dic[ltr] = 0\n",
    "        dic[ltr] += 1\n",
    "        while len(dic) > k:\n",
    "            if str[l] in dic:\n",
    "                del dic[str[l]]\n",
    "            l += 1            \n",
    "        mx = max(mx,sum(dic.values()))\n",
    "    return mx\n",
    "\n",
    "\n",
    "# {a:3, r:1, c:1,i:1}\n",
    "# {a:3, r:1, s}\n",
    "# s=\"cbbebi\"\n",
    "# k=3\n",
    "s = \"araaci\"\n",
    "# k = 2\n",
    "k = 1\n",
    "longest_substring_with_k_distinct(s,k)        "
   ]
  },
  {
   "cell_type": "code",
   "execution_count": 10,
   "metadata": {},
   "outputs": [
    {
     "output_type": "execute_result",
     "data": {
      "text/plain": [
       "5"
      ]
     },
     "metadata": {},
     "execution_count": 10
    }
   ],
   "source": [
    "# Given an array of characters where each character represents a fruit tree, you are given two baskets, and your goal is to put maximum number of fruits in each basket\n",
    "\n",
    "def fruits_into_baskets(fruits):\n",
    "    l = 0\n",
    "    mx = 0\n",
    "    dic = {}\n",
    "    for fruit in fruits:\n",
    "        if fruit not in dic:\n",
    "            dic[fruit] = 0\n",
    "        dic[fruit] += 1\n",
    "        while len(dic) > 2:\n",
    "            if fruits[l] in dic:\n",
    "                del dic[fruits[l]]\n",
    "            l += 1\n",
    "        mx = max(mx,sum(dic.values()))\n",
    "    return mx\n",
    "\n",
    "# Fruit=['A', 'B', 'C', 'A', 'C']\n",
    "# Fruit=['A', 'B', 'C', 'B', 'B', 'C']\n",
    "fruits_into_baskets(Fruit)\n",
    "\n",
    "# time complexity O(n)\n",
    "# space complexity O(1)"
   ]
  },
  {
   "cell_type": "code",
   "execution_count": 29,
   "metadata": {},
   "outputs": [
    {
     "output_type": "execute_result",
     "data": {
      "text/plain": [
       "3"
      ]
     },
     "metadata": {},
     "execution_count": 29
    }
   ],
   "source": [
    "# find the longest substring, which has no repeating characters\n",
    "def non_repeat_substring(str):\n",
    "    m = 0\n",
    "    c = 0\n",
    "    st = set()\n",
    "    for ltr in str:\n",
    "        if ltr not in st:\n",
    "            st.add(ltr)\n",
    "            c += 1\n",
    "        elif ltr in st:\n",
    "            if m < c: m = c\n",
    "            st = set(ltr)\n",
    "            c = 1\n",
    "    return m\n",
    "str = \"aabccbb\"\n",
    "# str = \"abbbbb\"\n",
    "# str = \"abccde\"\n",
    "non_repeat_substring(str)\n",
    "# time complexity O(k)\n",
    "# space complexity O(1)"
   ]
  },
  {
   "cell_type": "code",
   "execution_count": 34,
   "metadata": {},
   "outputs": [
    {
     "output_type": "execute_result",
     "data": {
      "text/plain": [
       "3"
      ]
     },
     "metadata": {},
     "execution_count": 34
    }
   ],
   "source": [
    "# longest substring with same letters after replacement\n",
    "def length_of_longest_substring(str,k):\n",
    "    trk = dict()\n",
    "    for ltr in str:\n",
    "        if ltr not in trk:\n",
    "            trk[ltr] = 0\n",
    "        trk[ltr] += 1\n",
    "    m = max(trk.values())\n",
    "    return m + k\n",
    "# str = \"aabccbb\"\n",
    "# str = \"abbcb\"\n",
    "str = \"abccde\"\n",
    "k = 1\n",
    "length_of_longest_substring(str,k)\n",
    "# time complexity O(n)\n",
    "# space complexity O(1)"
   ]
  }
 ]
}